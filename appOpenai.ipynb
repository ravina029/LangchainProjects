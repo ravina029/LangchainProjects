{
 "cells": [
  {
   "cell_type": "code",
   "execution_count": 33,
   "metadata": {},
   "outputs": [],
   "source": [
    "import os\n",
    "#from secret_key import openapi_key\n",
    "import langchain\n",
    "from dotenv import load_dotenv\n",
    "from langchain.llms import OpenAI\n",
    "load_dotenv()\n"
   ]
  },
  {
   "cell_type": "code",
   "execution_count": 34,
   "metadata": {},
   "outputs": [
    {
     "name": "stdout",
     "output_type": "stream",
     "text": [
      "\n",
      "\n",
      "\"MathMastermind\" or \"MathSavvyBot\" or \"MathGeniusAI\" or \"EquationEagle\" or \"CalculusCompanion\" or \"AlgebraAce\" or \"GeometryGenie\" or \"MathWhizBot\" or \"NumberNinja\" or \"MathMentorAI\"\n"
     ]
    }
   ],
   "source": [
    "llm=OpenAI(openai_api_key=os.environ['OPENAI_API_KEY'] ,temperature=0.6)\n",
    "idea=llm(\"I want to create my customize chatboat for math doubts give me innovative name for that\")\n",
    "print(idea)"
   ]
  },
  {
   "cell_type": "code",
   "execution_count": 35,
   "metadata": {},
   "outputs": [],
   "source": [
    "def openai_response(input_text):\n",
    "    llm=OpenAI(openai_api_key=os.getenv('OPENAI_API_KEY'),temperature=0.6,model_name='gpt-3.5-turbo-instruct')\n",
    "    response=llm(input_text)\n",
    "    return response"
   ]
  },
  {
   "cell_type": "code",
   "execution_count": 36,
   "metadata": {},
   "outputs": [
    {
     "data": {
      "text/plain": [
       "'\\n\\n\"BreadBot\" or \"PastryPal\"'"
      ]
     },
     "execution_count": 36,
     "metadata": {},
     "output_type": "execute_result"
    }
   ],
   "source": [
    "text=\"I want to create my customize chatboat for a bakery give me innovative name for that\"\n",
    "openai_response(text)"
   ]
  },
  {
   "cell_type": "code",
   "execution_count": 38,
   "metadata": {},
   "outputs": [
    {
     "data": {
      "text/plain": [
       "'i want to create a chatboat for chemistry. Suggest me name for this.'"
      ]
     },
     "execution_count": 38,
     "metadata": {},
     "output_type": "execute_result"
    }
   ],
   "source": [
    "from langchain.prompts import PromptTemplate \n",
    "\n",
    "PromptTemplate_name=PromptTemplate(input_variables=['topic'],\n",
    "               template='i want to create a chatboat for {topic}. Suggest me name for this.')\n",
    "\n",
    "PromptTemplate_name.format(topic='chemistry')"
   ]
  },
  {
   "cell_type": "code",
   "execution_count": 41,
   "metadata": {},
   "outputs": [
    {
     "data": {
      "text/plain": [
       "'\\n\\n1. MindMate\\n2. ConversAI\\n3. ChatGenie\\n4. AI Buddy\\n5. SmartTalk\\n6. ThinkBot\\n7. Intellichat\\n8. BotBrain\\n9. AI Companion\\n10. ChatIQ'"
      ]
     },
     "execution_count": 41,
     "metadata": {},
     "output_type": "execute_result"
    }
   ],
   "source": [
    "from langchain.chains import LLMChain\n",
    "\n",
    "chain=LLMChain(llm=llm,prompt=PromptTemplate_name)\n",
    "chain.run('AI')"
   ]
  },
  {
   "cell_type": "code",
   "execution_count": 44,
   "metadata": {},
   "outputs": [],
   "source": [
    "llm=OpenAI(temperature=0.6)\n",
    "\n",
    "PromptTemplate_name=PromptTemplate(input_variables=['item'],\n",
    "               template='i want to create a chatboat for {item}. Suggest me name for this.')\n",
    "\n",
    "name_chain=LLMChain(llm=llm,prompt=PromptTemplate_name)\n",
    "\n",
    "PromptTemplate_items=PromptTemplate(input_variables=['subject_name'],\n",
    "               template='Give me 10 most important topics for {subject_name}. return it with short discription.')\n",
    "\n",
    "topic_items_chain=LLMChain(llm=llm,prompt=PromptTemplate_items)\n",
    "\n"
   ]
  },
  {
   "cell_type": "code",
   "execution_count": 50,
   "metadata": {},
   "outputs": [],
   "source": [
    "from langchain.chains import SimpleSequentialChain\n",
    "\n",
    "chain=SimpleSequentialChain(chains=[name_chain,topic_items_chain])\n",
    "\n",
    "reponse=chain.run('data science')"
   ]
  },
  {
   "cell_type": "code",
   "execution_count": 51,
   "metadata": {},
   "outputs": [
    {
     "name": "stdout",
     "output_type": "stream",
     "text": [
      "\n",
      "\n",
      "1. Artificial Intelligence (AI) - The use of computer systems to perform tasks that typically require human intelligence, such as problem-solving and decision-making.\n",
      "\n",
      "2. Data Mining - The process of discovering patterns and insights from large datasets using various statistical and machine learning techniques.\n",
      "\n",
      "3. Natural Language Processing (NLP) - The ability of machines to understand, interpret, and generate human language.\n",
      "\n",
      "4. Machine Learning - A subset of AI that enables computers to learn and improve from experience without being explicitly programmed.\n",
      "\n",
      "5. Big Data - The large and complex datasets that are difficult to process using traditional data processing methods.\n",
      "\n",
      "6. Chatbots - Computer programs designed to simulate conversation with human users, often used for customer service or information retrieval.\n",
      "\n",
      "7. Predictive Analytics - The use of statistical techniques and machine learning algorithms to analyze historical data and make predictions about future events.\n",
      "\n",
      "8. Internet of Things (IoT) - A network of interconnected devices that can collect, exchange, and analyze data without human intervention.\n",
      "\n",
      "9. Data Privacy and Security - The protection of sensitive information from unauthorized access, use, or disclosure.\n",
      "\n",
      "10. Ethical Implications of AI - The discussion of ethical considerations and potential consequences of the use of AI in various industries and society as a whole.\n"
     ]
    }
   ],
   "source": [
    "print(reponse)"
   ]
  },
  {
   "cell_type": "code",
   "execution_count": 57,
   "metadata": {},
   "outputs": [],
   "source": [
    "llm=OpenAI(temperature=0.6)\n",
    "\n",
    "PromptTemplate_name=PromptTemplate(input_variables=['topic'],\n",
    "               template='i want to create a chatboat for {topic}. Suggest me name for this.')\n",
    "\n",
    "name_chain=LLMChain(llm=llm,prompt=PromptTemplate_name,output_key='app_name')\n",
    "\n",
    "PromptTemplate_items=PromptTemplate(input_variables=['app_name'],\n",
    "               template='Give me 10 most important topics for {app_name}. return it with short discription.')\n",
    "\n",
    "topic_items_chain=LLMChain(llm=llm,prompt=PromptTemplate_items,output_key='important topics')\n",
    "\n"
   ]
  },
  {
   "cell_type": "code",
   "execution_count": 58,
   "metadata": {},
   "outputs": [
    {
     "data": {
      "text/plain": [
       "{'topic': 'NLP',\n",
       " 'app_name': '\\n\\n1. \"NLPioneer\"\\n2. \"ChatMind\"\\n3. \"NLP Wizard\"\\n4. \"ConversaBot\"\\n5. \"LanguageMate\"\\n6. \"TalkGenie\"\\n7. \"NLP ChatPro\"\\n8. \"WordWise\"\\n9. \"DialogueBot\"\\n10. \"IntelliChat\"',\n",
       " 'important topics': ' \\n\\n1. Natural Language Processing (NLP): The study of how computers can understand and process human language, which is the foundation of all the other topics listed.\\n2. Chatbot Development: The process of creating and programming conversational agents that use NLP to communicate with users.\\n3. Artificial Intelligence (AI): The technology that enables chatbots to learn and improve their responses through machine learning algorithms.\\n4. Natural Language Understanding (NLU): The ability of a computer to interpret and understand the meaning of human language.\\n5. Conversational UX Design: The practice of designing chatbot interactions to create a seamless and user-friendly experience.\\n6. Data Analytics: The process of analyzing data to gain insights and improve chatbot performance.\\n7. Voice Recognition: The technology that allows chatbots to understand and respond to voice commands.\\n8. Sentiment Analysis: The use of NLP to analyze and interpret the emotions and attitudes expressed in text.\\n9. Personalization: The ability of chatbots to tailor their responses and interactions to individual users based on their preferences and history.\\n10. Multilingual Chatbots: The development of chatbots that can communicate in multiple languages, using NLP to understand and respond to different languages and dialects.'}"
      ]
     },
     "execution_count": 58,
     "metadata": {},
     "output_type": "execute_result"
    }
   ],
   "source": [
    "from langchain.chains import SequentialChain\n",
    "\n",
    "chain=SequentialChain(chains=[name_chain,topic_items_chain],\n",
    "                      input_variables=['topic'],\n",
    "                      output_variables=['app_name','important topics'])\n",
    "\n",
    "chain('NLP')"
   ]
  },
  {
   "cell_type": "markdown",
   "metadata": {},
   "source": [
    "# Restricting the Conversation memory to control the charges load"
   ]
  },
  {
   "cell_type": "code",
   "execution_count": 62,
   "metadata": {},
   "outputs": [
    {
     "name": "stdout",
     "output_type": "stream",
     "text": [
      "{'input': 'when covid outbreak happened', 'history': '', 'response': ' The first known cases of COVID-19 were reported in Wuhan, China in December 2019. The outbreak was officially declared a pandemic by the World Health Organization on March 11, 2020. Since then, it has spread to over 200 countries and territories, resulting in millions of infections and deaths.'}\n"
     ]
    }
   ],
   "source": [
    "from langchain.memory import ConversationBufferWindowMemory\n",
    "from langchain.chains import ConversationChain\n",
    "memory=ConversationBufferWindowMemory(k=1)\n",
    "\n",
    "conv=ConversationChain(llm=OpenAI(temperature=0.7),memory=memory)\n",
    "print(conv(\"when covid outbreak happened\"))"
   ]
  },
  {
   "cell_type": "code",
   "execution_count": 63,
   "metadata": {},
   "outputs": [
    {
     "name": "stdout",
     "output_type": "stream",
     "text": [
      "{'input': 'what is 2+2', 'history': 'Human: when covid outbreak happened\\nAI:  The first known cases of COVID-19 were reported in Wuhan, China in December 2019. The outbreak was officially declared a pandemic by the World Health Organization on March 11, 2020. Since then, it has spread to over 200 countries and territories, resulting in millions of infections and deaths.', 'response': ' 2+2 is equal to 4.'}\n"
     ]
    }
   ],
   "source": [
    "print(conv(\"what is 2+2\"))"
   ]
  },
  {
   "cell_type": "code",
   "execution_count": 64,
   "metadata": {},
   "outputs": [
    {
     "name": "stdout",
     "output_type": "stream",
     "text": [
      "{'input': 'what is orange?', 'history': 'Human: what is 2+2\\nAI:  2+2 is equal to 4.', 'response': ' Orange is a bright color that falls between red and yellow on the color spectrum. It is often associated with energy, warmth, and happiness. It is also the name of a round citrus fruit that has a thick, textured skin and juicy, sweet flesh. The fruit is typically orange in color, although there are varieties that are green, yellow, or even purple. It is rich in vitamin C and is commonly used in cooking and as a flavoring for drinks and desserts. Is there anything else you would like to know about orange?'}\n"
     ]
    }
   ],
   "source": [
    "print(conv(\"what is orange?\"))"
   ]
  },
  {
   "cell_type": "code",
   "execution_count": null,
   "metadata": {},
   "outputs": [],
   "source": []
  }
 ],
 "metadata": {
  "kernelspec": {
   "display_name": "Python 3",
   "language": "python",
   "name": "python3"
  },
  "language_info": {
   "codemirror_mode": {
    "name": "ipython",
    "version": 3
   },
   "file_extension": ".py",
   "mimetype": "text/x-python",
   "name": "python",
   "nbconvert_exporter": "python",
   "pygments_lexer": "ipython3",
   "version": "3.10.0"
  }
 },
 "nbformat": 4,
 "nbformat_minor": 2
}
